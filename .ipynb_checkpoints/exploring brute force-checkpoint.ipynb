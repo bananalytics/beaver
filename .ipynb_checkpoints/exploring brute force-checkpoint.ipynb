{
 "cells": [
  {
   "cell_type": "code",
   "execution_count": 2,
   "metadata": {},
   "outputs": [],
   "source": [
    "# lst = [450, 444, 436, 430, 389, 389, 386, 375, 362, 362, 261, 261, 261]"
   ]
  },
  {
   "cell_type": "code",
   "execution_count": 112,
   "metadata": {
    "scrolled": true
   },
   "outputs": [
    {
     "name": "stdout",
     "output_type": "stream",
     "text": [
      "[380, 220, 212, 397, 283, 274, 227, 327, 221, 395]\n"
     ]
    }
   ],
   "source": [
    "import random\n",
    "\n",
    "master_lst = random.choices(range(200,400), k=10)\n",
    "print(master_lst)"
   ]
  },
  {
   "cell_type": "code",
   "execution_count": 49,
   "metadata": {},
   "outputs": [
    {
     "name": "stdout",
     "output_type": "stream",
     "text": [
      "Board 1: (467, 394, 462, 478, 249) 0\n",
      "Board 2: (355, 369, 355, 250, 497, 224) 0\n",
      "Board 3: (436, 211, 211, 360, 211, 366, 251) 4\n",
      "Board 4: (304, 235) 1511\n",
      "--- 0.5826468467712402 seconds ---\n",
      "1081856\n"
     ]
    }
   ],
   "source": [
    "import time\n",
    "import itertools\n",
    "start_time = time.time()\n",
    "\n",
    "\n",
    "lst = [467, 355, 394, 462, 436, 369, 478, 211, 249, 304, 355, 250, 235, 211, 360, 211, 497, 366, 224, 251]\n",
    "\n",
    "material_size = 2050\n",
    "\n",
    "maximum = 0\n",
    "max_item = ()\n",
    "\n",
    "big_i = 0\n",
    "\n",
    "for k in range(1,len(lst)+1):\n",
    "    \n",
    "    if len(lst)==0:\n",
    "        break\n",
    "\n",
    "    for j in range(1,len(lst)+1):\n",
    "        for i, item in enumerate(itertools.combinations(lst, j)):\n",
    "            big_i+=1\n",
    "            if sum(item) <= material_size:\n",
    "                if sum(item) > maximum:\n",
    "                    maximum = sum(item)\n",
    "                    max_item = item\n",
    "#                     print (i, item, sum(item))\n",
    "\n",
    "            \n",
    "    print(\"Board {}:\".format(k), max_item, material_size-maximum)\n",
    "\n",
    "    for i in max_item:\n",
    "        lst.remove(i)\n",
    "    \n",
    "    maximum = 0\n",
    "    max_item = ()\n",
    "\n",
    "print(\"--- %s seconds ---\" % (time.time() - start_time))\n",
    "print(big_i)"
   ]
  },
  {
   "cell_type": "code",
   "execution_count": 50,
   "metadata": {},
   "outputs": [
    {
     "data": {
      "text/plain": [
       "[467,\n",
       " 355,\n",
       " 394,\n",
       " 462,\n",
       " 436,\n",
       " 369,\n",
       " 478,\n",
       " 211,\n",
       " 249,\n",
       " 304,\n",
       " 355,\n",
       " 250,\n",
       " 235,\n",
       " 211,\n",
       " 360,\n",
       " 211,\n",
       " 497,\n",
       " 366,\n",
       " 224,\n",
       " 251]"
      ]
     },
     "execution_count": 50,
     "metadata": {},
     "output_type": "execute_result"
    }
   ],
   "source": [
    "master_lst"
   ]
  },
  {
   "cell_type": "markdown",
   "metadata": {},
   "source": [
    "# Brute force with Branch\n",
    "\n",
    "* problem: gives optimal result for shortest list\n",
    "* greedy - the first board is the best board\n",
    "\n",
    "Given all of the optimalish boards, get their children possibilities\n",
    "\n",
    "We still need to find a way to optimize for all of the possibilies of optimal solutions. Reducing the final wasted space, except for the last piece\n",
    "\n",
    "-> Plot all of the spsce remainings of all possible combinations.\n",
    "\n",
    "-> I feel like the only way we can continue is by making a matrix representation. And doing some sort of distance reduction. Like traveling salesman in an n-dimensional space.\n",
    "\n",
    "The question then becomes... Why are we doing this?\n",
    "\n",
    "## Things I've learned\n",
    "1. The algorithm used depends on the data and the parameters\n",
    "\n",
    "I wonder... is there a way to cleverly engineer the solution?\n",
    "\n",
    "How many near-perfect arrangements are there? Can we achieve the same result by \"shaking??\""
   ]
  },
  {
   "cell_type": "raw",
   "metadata": {},
   "source": [
    "for j in reversed(range(1,branch_mid+1)):"
   ]
  },
  {
   "cell_type": "code",
   "execution_count": 120,
   "metadata": {},
   "outputs": [
    {
     "name": "stdout",
     "output_type": "stream",
     "text": [
      "Board 1: (450, 450, 389, 386, 375) 0\n",
      "21\n",
      "Board 2: (436, 436, 430, 386, 362) 0\n",
      "16\n",
      "Board 3: (444, 444, 375, 261, 261, 261) 4\n",
      "10\n",
      "Board 4: (430, 362, 362, 362, 261, 261) 12\n",
      "4\n",
      "Board 5: (389, 389, 389, 261) 622\n",
      "0\n",
      "--- 0.6220171451568604 seconds ---\n",
      "1197464\n"
     ]
    }
   ],
   "source": [
    "import time\n",
    "import itertools\n",
    "import math\n",
    "start_time = time.time()\n",
    "\n",
    "# lst = [467, 355, 394, 462, 436, 369, 478, 211, 249, 304, 355, 250, 235, 211, 360, 211, 497, 366, 224, 251]\n",
    "# lst = [529, 304, 535, 619, 479, 578, 766, 722, 599, 738, 411, 336, 356, 538, 555, 306, 292, 471, 252, 265, 380, 220, 212, 397, 283, 274, 227, 327, 221, 395]\n",
    "lst = [ 450, 444, 436, 430, 389, 389, 386, 375, 362, 362, 261, 261, 261, 450, 444, 436, 430, 389, 389, 386, 375, 362, 362, 261, 261, 261 ]\n",
    "\n",
    "material_size = 2050\n",
    "\n",
    "\n",
    "branch_high = math.floor( material_size/min(lst) )\n",
    "\n",
    "def longest_possible_subsequence(lst, material_size):\n",
    "    total=0\n",
    "    lst.sort() #ascending order\n",
    "    for i, item in enumerate(master_lst):\n",
    "        space_remaining = material_size - total\n",
    "        if item <= space_remaining:\n",
    "            total += item\n",
    "        else:\n",
    "            return i\n",
    "        \n",
    "branch_mid = longest_possible_subsequence(lst, material_size)\n",
    "\n",
    "lst.sort(reverse=True)\n",
    "\n",
    "maximum = 0\n",
    "max_item = ()\n",
    "\n",
    "big_i = 0\n",
    "\n",
    "for k in range(1,len(lst)+1):\n",
    "    \n",
    "    if len(lst)==0:\n",
    "        break\n",
    "    \n",
    "#     for j in reversed(range(1,branch_mid+1)):\n",
    "    for j in range(1,branch_mid+1):\n",
    "        for i, item in enumerate(itertools.combinations(lst, j)):\n",
    "            big_i+=1\n",
    "            if sum(item) <= material_size:\n",
    "                if sum(item) > maximum:\n",
    "                    maximum = sum(item)\n",
    "                    max_item = item\n",
    "#                     print (i, item, sum(item))\n",
    "\n",
    "            \n",
    "    print(\"Board {}:\".format(k), max_item, material_size-maximum)\n",
    "\n",
    "    for i in max_item:\n",
    "        lst.remove(i)\n",
    "    \n",
    "    maximum = 0\n",
    "    max_item = ()\n",
    "    print(len(lst))\n",
    "\n",
    "print(\"--- %s seconds ---\" % (time.time() - start_time))\n",
    "print(big_i)"
   ]
  },
  {
   "cell_type": "code",
   "execution_count": 65,
   "metadata": {},
   "outputs": [
    {
     "data": {
      "text/plain": [
       "[211,\n",
       " 211,\n",
       " 211,\n",
       " 224,\n",
       " 235,\n",
       " 249,\n",
       " 250,\n",
       " 251,\n",
       " 304,\n",
       " 355,\n",
       " 355,\n",
       " 360,\n",
       " 366,\n",
       " 369,\n",
       " 394,\n",
       " 436,\n",
       " 462,\n",
       " 467,\n",
       " 478,\n",
       " 497]"
      ]
     },
     "execution_count": 65,
     "metadata": {},
     "output_type": "execute_result"
    }
   ],
   "source": [
    "master_lst"
   ]
  },
  {
   "cell_type": "code",
   "execution_count": 86,
   "metadata": {},
   "outputs": [
    {
     "name": "stdout",
     "output_type": "stream",
     "text": [
      "8\n"
     ]
    }
   ],
   "source": [
    "material_size = 2050\n",
    "total=0\n",
    "master_lst = [467, 355, 394, 462, 436, 369, 478, 211, 249, 304, 355, 250, 235, 211, 360, 211, 497, 366, 224, 251]\n",
    "master_lst.sort()\n",
    "for i, item in enumerate(master_lst):\n",
    "    space_remaining = material_size - total\n",
    "    if item <= space_remaining:\n",
    "        total += item\n",
    "    else:\n",
    "        break\n",
    "print(i)"
   ]
  },
  {
   "cell_type": "code",
   "execution_count": 92,
   "metadata": {},
   "outputs": [],
   "source": [
    "def longest_possible_subsequence(lst, material_length):\n",
    "    total=0\n",
    "    lst.sort() #ascending order\n",
    "    for i, item in enumerate(master_lst):\n",
    "        space_remaining = material_size - total\n",
    "        if item <= space_remaining:\n",
    "            total += item\n",
    "        else:\n",
    "            return i"
   ]
  },
  {
   "cell_type": "code",
   "execution_count": 91,
   "metadata": {},
   "outputs": [
    {
     "data": {
      "text/plain": [
       "8"
      ]
     },
     "execution_count": 91,
     "metadata": {},
     "output_type": "execute_result"
    }
   ],
   "source": [
    "longest_possible_subsequence(master_lst, material_size)"
   ]
  },
  {
   "cell_type": "code",
   "execution_count": 93,
   "metadata": {},
   "outputs": [
    {
     "data": {
      "text/plain": [
       "9"
      ]
     },
     "execution_count": 93,
     "metadata": {},
     "output_type": "execute_result"
    }
   ],
   "source": [
    "math.floor( material_size/min(master_lst) )"
   ]
  },
  {
   "cell_type": "markdown",
   "metadata": {},
   "source": [
    "# Future\n",
    "\n",
    "1. Introduce quantities\n",
    "2. Another algorithm\n",
    "3. Get how many optimal first solutions there are.... List of max_item 's and then follow-up on every possibility\n",
    "\n",
    "Build solution set."
   ]
  },
  {
   "cell_type": "code",
   "execution_count": null,
   "metadata": {},
   "outputs": [],
   "source": []
  }
 ],
 "metadata": {
  "kernelspec": {
   "display_name": "Python [conda env:pawel]",
   "language": "python",
   "name": "conda-env-pawel-py"
  },
  "language_info": {
   "codemirror_mode": {
    "name": "ipython",
    "version": 3
   },
   "file_extension": ".py",
   "mimetype": "text/x-python",
   "name": "python",
   "nbconvert_exporter": "python",
   "pygments_lexer": "ipython3",
   "version": "3.6.6"
  }
 },
 "nbformat": 4,
 "nbformat_minor": 2
}
